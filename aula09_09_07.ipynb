{
 "cells": [
  {
   "cell_type": "markdown",
   "metadata": {},
   "source": [
    "## Laço for\n",
    "\n",
    "O laço 'for' é um dos loops mais usado na programação.É um laço de repetição como o anterior também,mas com uma diferença: é sempre executado com um número finito de vezes,evitando que o programa entre em loop infinito.A desvantagem em relação so while é que o número de loops dessa vez é ditado pelo prórpio programa ao invés do usuário final.Este, por sua vez, não possui controle sobre o número de loops a ser executado no for, ou pelo menos não diretamente.Para fins de exemplo, vamos executar um programa parecido com o primeiro programa dessa aula, mas desta vez, o programa irá exibir números de 0 a 4.Segue algoritmo:"
   ]
  },
  {
   "cell_type": "code",
   "execution_count": 11,
   "metadata": {},
   "outputs": [
    {
     "name": "stdout",
     "output_type": "stream",
     "text": [
      "A\n",
      "l\n",
      "a\n",
      "n\n",
      "a\n"
     ]
    }
   ],
   "source": [
    "nome = 'Alana'\n",
    "for n in nome:\n",
    "    print (n)"
   ]
  },
  {
   "cell_type": "code",
   "execution_count": 12,
   "metadata": {},
   "outputs": [
    {
     "name": "stdout",
     "output_type": "stream",
     "text": [
      "Margarete\n",
      "Gabrielle\n",
      "Alana\n",
      "Joana\n"
     ]
    }
   ],
   "source": [
    "nome = {'Alana','Gabrielle','Margarete','Joana'}\n",
    "for n in nome:\n",
    "    print(n)"
   ]
  },
  {
   "cell_type": "code",
   "execution_count": 13,
   "metadata": {},
   "outputs": [
    {
     "name": "stdout",
     "output_type": "stream",
     "text": [
      "0\n",
      "2\n",
      "4\n",
      "6\n",
      "8\n",
      "10\n",
      "12\n",
      "14\n",
      "16\n",
      "18\n",
      "20\n"
     ]
    }
   ],
   "source": [
    "nome = {'Alana','Gabrielle','Margarete','Joana'}\n",
    "#for n in nome:\n",
    "# print(n)\n",
    "\n",
    "for i in range(0,21):\n",
    "    if i % 2 == 0:\n",
    "        print(i)\n"
   ]
  },
  {
   "cell_type": "code",
   "execution_count": 14,
   "metadata": {},
   "outputs": [],
   "source": [
    "termo = int(input('Digite o primeiro termo: '))\n",
    "razao = int(input('Digite a razão: '))\n",
    "\n",
    "pa = termo + (20 - 1) * razao\n",
    "\n",
    "for i in range(termo, pa + razao, razao):\n",
    "    print(i)"
   ]
  },
  {
   "cell_type": "code",
   "execution_count": null,
   "metadata": {},
   "outputs": [
    {
     "name": "stdout",
     "output_type": "stream",
     "text": [
      "                   *\n",
      "                  ***\n",
      "                 *****\n",
      "                *******\n",
      "               *********\n",
      "              ***********\n",
      "             *************\n",
      "            ***************\n",
      "           *****************\n",
      "          *******************\n",
      "         *********************\n",
      "        ***********************\n",
      "       *************************\n",
      "      ***************************\n",
      "     *****************************\n",
      "    *******************************\n",
      "   *********************************\n",
      "  ***********************************\n",
      " *************************************\n",
      "***************************************\n"
     ]
    }
   ],
   "source": [
    "altura = 20\n",
    "espacamento = 0 \n",
    "asterisco =1\n",
    "simbolo = '*'\n",
    "\n",
    "for i in range(altura):\n",
    "    espacamento = altura - i - 1\n",
    "\n",
    "    for j in range(espacamento):\n",
    "        print(' ', end='')\n",
    "    \n",
    "    for k in range(asterisco):\n",
    "        print(simbolo, end='')\n",
    "\n",
    "    print()\n",
    "    asterisco +=2"
   ]
  },
  {
   "cell_type": "code",
   "execution_count": null,
   "metadata": {},
   "outputs": [
    {
     "name": "stdout",
     "output_type": "stream",
     "text": [
      "O sorteado foi luiz\n"
     ]
    }
   ],
   "source": [
    "import random\n",
    "\n",
    "nome1 = input('Digite um nome: ')\n",
    "nome2 = input('Digite um nome: ')\n",
    "nome3 = input('Digite um nome: ')\n",
    "nome4 = input('Digite um nome: ')\n",
    "nome5 = input('Digite um nome: ')\n",
    "\n",
    "lista_nome = [nome1, nome2, nome3, nome4, nome5]\n",
    "\n",
    "escolhido = random.choice(lista_nome)\n",
    "\n",
    "print(f'O sorteado foi {escolhido}')\n"
   ]
  },
  {
   "cell_type": "code",
   "execution_count": null,
   "metadata": {},
   "outputs": [],
   "source": [
    "import random\n",
    "\n",
    "lista_nome = []\n",
    "\n",
    "while True\n",
    "    nome = input('Digite os nomes que serão sorteados: ')\n",
    "    if nome != '':\n",
    "        lista_nome.append(nome)\n",
    "    else:\n",
    "        break\n",
    "\n",
    "escolhido = random.choice(lista_nome)\n",
    "\n",
    "print(f'O sorteado foi {escolhido}')\n",
    "print(lista_nome)"
   ]
  },
  {
   "cell_type": "code",
   "execution_count": 8,
   "metadata": {},
   "outputs": [
    {
     "name": "stdout",
     "output_type": "stream",
     "text": [
      "O sorteado é jose\n",
      "Programa Finalizado\n",
      "Lista dos nomes: ['luiz', 'joao', 'jose']\n",
      "Lista de Sorteados: ['jose']\n"
     ]
    }
   ],
   "source": [
    "import random\n",
    "import os\n",
    "import time\n",
    "\n",
    "lista_nome = []\n",
    "lista_sorteados = []\n",
    "\n",
    "while True:\n",
    "    nome = input('Digite os nomes que serão sorteados: ')\n",
    "    if nome != '':\n",
    "        lista_nome.append(nome)\n",
    "    else:\n",
    "        break\n",
    "\n",
    "while True:\n",
    "    if lista_nome:\n",
    "        os.system('cls')\n",
    "        escolhido = random.choice(lista_nome)\n",
    "        lista_sorteados.append(escolhido)\n",
    "        time.sleep(3)\n",
    "        print(f'O sorteado é {escolhido}')\n",
    "\n",
    "        opcao = input('Deseja sortear outro nome? (s/n)').lower()\n",
    "        os.system('cls')\n",
    "\n",
    "        if opcao != 's':\n",
    "            break\n",
    "\n",
    "    else:\n",
    "        print('Não existe números para seram sorteados')\n",
    "\n",
    "print('Programa Finalizado')\n",
    "print(f'Lista dos nomes: {lista_nome}')\n",
    "print(f'Lista de Sorteados: {lista_sorteados}')"
   ]
  },
  {
   "cell_type": "code",
   "execution_count": 4,
   "metadata": {},
   "outputs": [
    {
     "name": "stdout",
     "output_type": "stream",
     "text": [
      "O primeiro nome da lista é gomes\n",
      "O segundo nome da lista é oliveira\n",
      "O terceiro nome da lista é karyton\n",
      " 1° nome: gomes\n",
      " 2° nome: oliveira\n",
      " 3° nome: karyton\n",
      " 4° nome: lucas\n",
      " 5° nome: beltrano\n"
     ]
    }
   ],
   "source": [
    "lista = ['gomes','oliveira','karyton','lucas','beltrano','lucas','cicrano']\n",
    "\n",
    "print(f'O primeiro nome da lista é {lista[0]}')\n",
    "print(f'O segundo nome da lista é {lista[1]}')\n",
    "print(f'O terceiro nome da lista é {lista[2]}')\n",
    "\n",
    "for i in range(5):\n",
    "    print(f' {i + 1}° nome: {lista[i]}')"
   ]
  },
  {
   "cell_type": "code",
   "execution_count": 6,
   "metadata": {},
   "outputs": [
    {
     "name": "stdout",
     "output_type": "stream",
     "text": [
      "O primeiro nome da lista é gomes\n",
      "O segundo nome da lista é oliveira\n",
      "O terceiro nome da lista é karyton\n",
      "1° nome: gomes\n",
      "2° nome: oliveira\n",
      "3° nome: karyton\n",
      "4° nome: lucas\n",
      "5° nome: beltrano\n",
      "\n",
      "1° nome: gomes\n",
      "2° nome: oliveira\n",
      "3° nome: karyton\n",
      "4° nome: lucas\n",
      "5° nome: beltrano\n",
      "6° nome: lucas\n",
      "7° nome: cicrano\n"
     ]
    }
   ],
   "source": [
    "# len\n",
    "\n",
    "lista = ['gomes','oliveira','karyton','lucas','beltrano','lucas','cicrano']\n",
    "\n",
    "print(f'O primeiro nome da lista é {lista[0]}')\n",
    "print(f'O segundo nome da lista é {lista[1]}')\n",
    "print(f'O terceiro nome da lista é {lista[2]}')\n",
    "\n",
    "for i in range(5):\n",
    "    print(f'{i + 1}° nome: {lista[i]}')\n",
    "print()\n",
    "\n",
    "for i in range(len(lista)):\n",
    "    print(f'{i + 1}° nome: {lista[i]}')"
   ]
  },
  {
   "cell_type": "code",
   "execution_count": 7,
   "metadata": {},
   "outputs": [
    {
     "name": "stdout",
     "output_type": "stream",
     "text": [
      "==============================\n",
      "6 x 1 = 6\n",
      "6 x 2 = 12\n",
      "6 x 3 = 18\n",
      "6 x 4 = 24\n",
      "6 x 5 = 30\n",
      "6 x 6 = 36\n",
      "6 x 7 = 42\n",
      "6 x 8 = 48\n",
      "6 x 9 = 54\n",
      "6 x 10 = 60\n"
     ]
    }
   ],
   "source": [
    "# Tabuada\n",
    "\n",
    "print(30*'=')\n",
    "x = int(input('Digite um número inteiro: '))\n",
    "\n",
    "for num in range(1, 11):\n",
    "    print(f'{x} x {num} = {x * num}')\n",
    "    "
   ]
  },
  {
   "cell_type": "code",
   "execution_count": 9,
   "metadata": {},
   "outputs": [
    {
     "name": "stdout",
     "output_type": "stream",
     "text": [
      "Bem vindo ao GAME Python Adivinha!!!\n",
      "Você tem 5 tentativas para adivinhar o número secreto entre 1 e 20\n",
      "Tente um número menor\n",
      "Parabens! Você acertou o número secreto 5 em 2 tentativas.\n"
     ]
    }
   ],
   "source": [
    "\n",
    "# Jogo de adivinhação\n",
    "\n",
    "import random\n",
    "numero_secreto = random.randint(1, 20)\n",
    "\n",
    "# FIXME: Declarando variaveis\n",
    "\n",
    "tentativas = 0\n",
    "max_tentativas = 5\n",
    "acertou = False\n",
    "\n",
    "print('Bem vindo ao GAME Python Adivinha!!!')\n",
    "print(f'Você tem {max_tentativas} tentativas para adivinhar o número secreto entre 1 e 20')\n",
    "\n",
    "# loop (jogo)\n",
    "\n",
    "while tentativas < max_tentativas:\n",
    "    palpite = int(input('Digite um número inteiro entre 1 e 20: '))\n",
    "\n",
    "    tentativas += 1\n",
    "\n",
    "    if palpite == numero_secreto:\n",
    "        acertou = True\n",
    "        break\n",
    "\n",
    "    elif palpite < numero_secreto:\n",
    "        print('Tente um número maior')\n",
    "    else:\n",
    "        print('Tente um número menor')\n",
    "if acertou:\n",
    "    print(f'Parabens! Você acertou o número secreto {numero_secreto} em {tentativas} tentativas.')\n",
    "else:\n",
    "    print(f'Que pena! Você não  conseguiu adivinhar o número secreto {numero_secreto} ')"
   ]
  }
 ],
 "metadata": {
  "kernelspec": {
   "display_name": ".venv",
   "language": "python",
   "name": "python3"
  },
  "language_info": {
   "codemirror_mode": {
    "name": "ipython",
    "version": 3
   },
   "file_extension": ".py",
   "mimetype": "text/x-python",
   "name": "python",
   "nbconvert_exporter": "python",
   "pygments_lexer": "ipython3",
   "version": "3.12.4"
  }
 },
 "nbformat": 4,
 "nbformat_minor": 2
}
