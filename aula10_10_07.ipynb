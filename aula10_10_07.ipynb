{
 "cells": [
  {
   "cell_type": "markdown",
   "metadata": {},
   "source": [
    "## Lista \n",
    "\n",
    "- Declarando uma lista \n",
    "- Manipulação de lista\n",
    "    - Adicionando um novo elemento na lista\n",
    "    - Adicionar elemento em uma posição na lista\n",
    "    - Removendo um elemento da lista\n",
    "    - Mostrando o segundo , terceiro e quarto elemento da lista\n",
    "    - Mostrando o ultimo elemento da lista\n",
    "    - Ordenando lista\n",
    "    - Pesquisando dados em um lista (in, index, count)\n",
    "    - Copiando uma lista"
   ]
  },
  {
   "cell_type": "code",
   "execution_count": 5,
   "metadata": {},
   "outputs": [
    {
     "name": "stdout",
     "output_type": "stream",
     "text": [
      "['gomes', 'oliveira', 'lucas', 'jose', 'pedro', 'maria', 'lucas', 'joao']\n",
      "O primeiro nome é gomes\n",
      "joao\n",
      "['gomes', 'oliveira', 'jose', 'pedro', 'maria', 'lucas', 'joao']\n",
      "['gomes', 'oliveira', 'jose', 'pedro', 'maria', 'joao']\n"
     ]
    }
   ],
   "source": [
    "nomes = ['gomes','oliveira','lucas','jose','pedro','maria','lucas','joao']\n",
    "print(nomes)\n",
    "\n",
    "# Retornando elemento da lista atravezdo indice \n",
    "print(f'O primeiro nome é {nomes[0]}')\n",
    "\n",
    "# Retornando o ultimo elemento da lista\n",
    "print(nomes[-1])\n",
    "\n",
    "# Removendo item da lista com remove\n",
    "nomes.remove('lucas')\n",
    "print(nomes)\n",
    "\n",
    "# Removendo item da lista com pop\n",
    "nomes.pop(5)\n",
    "print(nomes)\n"
   ]
  },
  {
   "cell_type": "code",
   "execution_count": 4,
   "metadata": {},
   "outputs": [
    {
     "name": "stdout",
     "output_type": "stream",
     "text": [
      "['gomes', 'oliveira', 'lucas', 'jose', 'pedro', 'maria', 'lucas', 'joao']\n",
      "['gomes', 'oliveira', 'pedro', 'maria', 'lucas', 'joao']\n"
     ]
    }
   ],
   "source": [
    "nomes = ['gomes','oliveira','lucas','jose','pedro','maria','lucas','joao']\n",
    "print(nomes)\n",
    "\n",
    "# Removendo item da lista usando del\n",
    "del nomes[2:4]\n",
    "print(nomes)"
   ]
  },
  {
   "cell_type": "code",
   "execution_count": 8,
   "metadata": {},
   "outputs": [
    {
     "name": "stdout",
     "output_type": "stream",
     "text": [
      "['gomes', 'oliveira', 'lucas', 'jose', 'pedro', 'maria', 'lucas', 'joao']\n",
      "['pedro', 'maria', 'lucas', 'joao']\n"
     ]
    }
   ],
   "source": [
    "nomes = ['gomes','oliveira','lucas','jose','pedro','maria','lucas','joao']\n",
    "print(nomes)\n",
    "\n",
    "print(nomes[4:])"
   ]
  },
  {
   "cell_type": "code",
   "execution_count": 9,
   "metadata": {},
   "outputs": [
    {
     "name": "stdout",
     "output_type": "stream",
     "text": [
      "['gomes', 'oliveira', 'lucas', 'jose', 'pedro', 'maria', 'lucas', 'joao']\n",
      "['gomes', 'oliveira', 'lucas', 'jose', 'pedro', 'maria', 'lucas', 'joao', 'josue']\n"
     ]
    }
   ],
   "source": [
    "nomes = ['gomes','oliveira','lucas','jose','pedro','maria','lucas','joao']\n",
    "print(nomes)\n",
    "\n",
    "# Adicionar um novo item a lista\n",
    "nomes.append('josue')\n",
    "print(nomes)"
   ]
  },
  {
   "cell_type": "code",
   "execution_count": 10,
   "metadata": {},
   "outputs": [
    {
     "name": "stdout",
     "output_type": "stream",
     "text": [
      "['gomes', 'oliveira', 'lucas', 'jose', 'pedro', 'maria', 'lucas', 'joao']\n",
      "['gomes', 'oliveira', 'josue', 'lucas', 'jose', 'pedro', 'maria', 'lucas', 'joao']\n"
     ]
    }
   ],
   "source": [
    "nomes = ['gomes','oliveira','lucas','jose','pedro','maria','lucas','joao']\n",
    "print(nomes)\n",
    "\n",
    "# Adicionar un elemento em uma posição especifica\n",
    "nomes.insert(2, 'josue')\n",
    "print(nomes)"
   ]
  },
  {
   "cell_type": "code",
   "execution_count": 13,
   "metadata": {},
   "outputs": [
    {
     "name": "stdout",
     "output_type": "stream",
     "text": [
      "['gomes', 'oliveira', 'lucas', 'jose', 'pedro', 'maria', 'lucas', 'joao']\n",
      "1° nome da lista: gomes\n",
      "2° nome da lista: oliveira\n",
      "3° nome da lista: lucas\n",
      "4° nome da lista: jose\n",
      "5° nome da lista: pedro\n",
      "6° nome da lista: maria\n",
      "7° nome da lista: lucas\n",
      "8° nome da lista: joao\n",
      "\n",
      "1° nome da lista: ana\n",
      "2° nome da lista: gomes\n",
      "3° nome da lista: oliveira\n",
      "4° nome da lista: lucas\n",
      "5° nome da lista: jose\n",
      "6° nome da lista: pedro\n",
      "7° nome da lista: maria\n",
      "8° nome da lista: lucas\n",
      "9° nome da lista: joao\n"
     ]
    }
   ],
   "source": [
    "nomes = ['gomes','oliveira','lucas','jose','pedro','maria','lucas','joao']\n",
    "print(nomes)\n",
    "\n",
    "# Imprimindo a lista ignorando o indice 0\n",
    "for i in range(len(nomes)):\n",
    "    print(f'{i + 1}° nome da lista: {nomes[i]}')\n",
    "\n",
    "# Recebendo um novo nome para adicionar a lista\n",
    "novo_nome = input('Digite um novo nome a ser adicionado na lista: ')\n",
    "posicao = input(\"Informe a posição desejada para adicionar o novo nome: \")\n",
    "posicao = int(posicao)\n",
    "\n",
    "# Corrigindo a posição dos indices\n",
    "posicao -= 1\n",
    "\n",
    "if posicao >= 0 and posicao <= len(nomes):\n",
    "    nomes.insert(posicao, novo_nome)\n",
    "else:\n",
    "    print('Posição inválida')\n",
    "\n",
    "print()\n",
    "for i in range(len(nomes)):\n",
    "    print(f'{i + 1}° nome da lista: {nomes[i]}')"
   ]
  },
  {
   "cell_type": "code",
   "execution_count": 14,
   "metadata": {},
   "outputs": [
    {
     "name": "stdout",
     "output_type": "stream",
     "text": [
      "['gomes', 'oliveira', 'lucas', 'jose', 'pedro', 'maria', 'lucas', 'joao']\n",
      "['gomes', 'garoto de programa', 'lucas', 'jose', 'pedro', 'maria', 'lucas', 'joao']\n"
     ]
    }
   ],
   "source": [
    "nomes = ['gomes','oliveira','lucas','jose','pedro','maria','lucas','joao']\n",
    "print(nomes)\n",
    "\n",
    "nomes[1] = 'garoto de programa'\n",
    "print(nomes)\n"
   ]
  },
  {
   "cell_type": "code",
   "execution_count": 15,
   "metadata": {},
   "outputs": [
    {
     "name": "stdout",
     "output_type": "stream",
     "text": [
      "['gomes', 'oliveira', 'lucas', 'jose', 'pedro', 'maria', 'lucas', 'joao']\n",
      "['gomes', 'carlos', 'lucas', 'jose', 'pedro', 'maria', 'lucas', 'joao']\n"
     ]
    }
   ],
   "source": [
    "nomes = ['gomes','oliveira','lucas','jose','pedro','maria','lucas','joao']\n",
    "print(nomes)\n",
    "\n",
    "nomes[1] = input(\"Digite um nome: \")\n",
    "print(nomes)"
   ]
  },
  {
   "cell_type": "code",
   "execution_count": 18,
   "metadata": {},
   "outputs": [
    {
     "name": "stdout",
     "output_type": "stream",
     "text": [
      "Lista desordenada: [10, 9, 8, 7, 6, 5, 4, 3, 2, 1]\n",
      "Lista ordenada: [1, 2, 3, 4, 5, 6, 7, 8, 9, 10]\n"
     ]
    }
   ],
   "source": [
    "# lista = [1,2,3,4,5,6,7,8,9,10]\n",
    "lista = [10,9,8,7,6,5,4,3,2,1]\n",
    "\n",
    "# Organizar a lista\n",
    "print(f'Lista desordenada: {lista}')\n",
    "lista.sort()\n",
    "print(f'Lista ordenada: {lista}')\n"
   ]
  },
  {
   "cell_type": "code",
   "execution_count": 19,
   "metadata": {},
   "outputs": [
    {
     "name": "stdout",
     "output_type": "stream",
     "text": [
      "Lista desordenada: [5, 2, 9, 20, 7, 4, 8, 3, 10, 1]\n",
      "Lista ordenada decrescente: [20, 10, 9, 8, 7, 5, 4, 3, 2, 1]\n"
     ]
    }
   ],
   "source": [
    "lista = [5,2,9,20,7,4,8,3,10,1]\n",
    "\n",
    "# Lista ordenada decrescente\n",
    "print(f'Lista desordenada: {lista}')\n",
    "lista.sort(reverse=True)\n",
    "print(f'Lista ordenada decrescente: {lista}')"
   ]
  },
  {
   "cell_type": "markdown",
   "metadata": {},
   "source": [
    "#### Desafio 01\n",
    "- Crie um programa que realiza a contagem de 1 até 100, usando apenas números ímpares, ao final do processo exiba em tela quantos números ímpares foram emcontrados nesse intervalo, assim como a soma dos mesmos:"
   ]
  },
  {
   "cell_type": "code",
   "execution_count": 38,
   "metadata": {},
   "outputs": [
    {
     "name": "stdout",
     "output_type": "stream",
     "text": [
      "100\n",
      "Foram encontrados 50 números impares\n",
      "A soma destes números é: 50\n"
     ]
    }
   ],
   "source": [
    "# TODO: Resposta do desafio 01\n",
    "contador = 0\n",
    "soma = 0\n",
    "for i in range(1,101):\n",
    "    if i % 2 == 1:\n",
    "        \n",
    "        soma += 1\n",
    "        contador += 1\n",
    "\n",
    "print(i)\n",
    "print(f'Foram encontrados {contador} números impares')\n",
    "print(f'A soma destes números é: {soma}')"
   ]
  },
  {
   "cell_type": "markdown",
   "metadata": {},
   "source": [
    "#### Desafio 02\n",
    "- Crie uma lista de tarefas basica, onde você pode adicionar quantas tarefas você desejar\n",
    "    - Use While\n",
    "    - Use For\n",
    "    - Use if else\n",
    "    - Use os ('cls')"
   ]
  },
  {
   "cell_type": "code",
   "execution_count": 39,
   "metadata": {},
   "outputs": [
    {
     "name": "stdout",
     "output_type": "stream",
     "text": [
      "Tarefa adicionada!\n",
      "1 Tarefa: lavar\n"
     ]
    }
   ],
   "source": [
    "# TODO: Resposta do desafio 02\n",
    "import os\n",
    "\n",
    "tarefa = []\n",
    "\n",
    "while True:\n",
    "    add = input('Quer adicionar uma nova tarefa: [S/N]').upper()\n",
    "    if add == 'S':\n",
    "        n_tarefa = input('Digite a nova tarefa: ')\n",
    "        tarefa.append(n_tarefa)\n",
    "        print('Tarefa adicionada!')\n",
    "    \n",
    "    else:\n",
    "        break\n",
    "    \n",
    "os.system('cls')\n",
    "for i in range (len(tarefa)):\n",
    "    print(f'{i + 1} Tarefa: {tarefa[i]}')\n",
    "    "
   ]
  },
  {
   "cell_type": "markdown",
   "metadata": {},
   "source": [
    "#### Desafio 03\n",
    "- Crie um programa que pede o usuario que o mesmo digite um número qualquer, em seguida retorne se esse número é primo ou não, caso não seja, retorne tambem a quantas vezes esse número é divisível:\n",
    "\n",
    "Número primo é aquele que apenas é divisível por 1 ou por ele mesmo, temos de criar essa condição lógica para poder solucionar esse exercício."
   ]
  },
  {
   "cell_type": "code",
   "execution_count": 42,
   "metadata": {},
   "outputs": [
    {
     "name": "stdout",
     "output_type": "stream",
     "text": [
      "O numero não é primo pois é divisivel por  [1, 2, 3, 4, 6, 8, 12, 16, 24, 32, 48, 96]\n"
     ]
    }
   ],
   "source": [
    "# TODO: Resposta do desafio 03\n",
    "num = int(input (\"Digite um numero inteiro para saber se é primo: \"))\n",
    "cont = 0\n",
    "div = []\n",
    "\n",
    "for i in range(num):\n",
    "    if num%(i+1) == 0:\n",
    "        cont += 1\n",
    "        div.append(i+1)\n",
    "    else:\n",
    "        cont\n",
    "if cont == 2:\n",
    "    print (\"O numero é primo divisivel por \",div)\n",
    "else:\n",
    "    print (\"O numero não é primo pois é divisivel por \",div)\n",
    "\n"
   ]
  }
 ],
 "metadata": {
  "kernelspec": {
   "display_name": ".venv",
   "language": "python",
   "name": "python3"
  },
  "language_info": {
   "codemirror_mode": {
    "name": "ipython",
    "version": 3
   },
   "file_extension": ".py",
   "mimetype": "text/x-python",
   "name": "python",
   "nbconvert_exporter": "python",
   "pygments_lexer": "ipython3",
   "version": "3.12.4"
  }
 },
 "nbformat": 4,
 "nbformat_minor": 2
}
