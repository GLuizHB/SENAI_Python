{
 "cells": [
  {
   "cell_type": "markdown",
   "metadata": {},
   "source": [
    "## Operador ternário\n",
    "- Usar operador ternário quando as alternativas forem pequenas, e quando tiver apenas 2 ou no máximo 3 alternativas.\n",
    "- No exemplo a variável precisa ser inteira"
   ]
  },
  {
   "cell_type": "code",
   "execution_count": 3,
   "metadata": {},
   "outputs": [
    {
     "name": "stdout",
     "output_type": "stream",
     "text": [
      "karython é maior de idade.\n"
     ]
    }
   ],
   "source": [
    "nome = 'karython'\n",
    "idade = 18\n",
    "\n",
    "print(nome, 'é maior de idade.' if idade >= 18 else 'é menor de idade')"
   ]
  },
  {
   "cell_type": "markdown",
   "metadata": {},
   "source": [
    "## Replace\n",
    "- substituir"
   ]
  },
  {
   "cell_type": "code",
   "execution_count": 3,
   "metadata": {},
   "outputs": [
    {
     "name": "stdout",
     "output_type": "stream",
     "text": [
      "<class 'str'>\n",
      "<class 'float'>\n"
     ]
    }
   ],
   "source": [
    "peso = input(\"Digite seu peso: \").replace(',','.')\n",
    "print(type(peso))\n",
    "peso = float(peso)\n",
    "print(type(peso))\n"
   ]
  },
  {
   "cell_type": "markdown",
   "metadata": {},
   "source": [
    "## Desafio 01\n",
    "- Crie um programa para fazer a verificação de um cliente para saber se ele pode usar o brinquedo ou não.\n",
    "    - Para brincar ele precisa:\n",
    "        - ter mais que 12 anos\n",
    "        - ter altura minima de 1,20 mts"
   ]
  },
  {
   "cell_type": "code",
   "execution_count": 6,
   "metadata": {},
   "outputs": [
    {
     "name": "stdout",
     "output_type": "stream",
     "text": [
      "Nome: caio\n",
      " Idade: 12\n",
      " Altura:1.2\n",
      " Apto para brincar\n"
     ]
    }
   ],
   "source": [
    "# TODO: Resposta desafio 01\n",
    "nome = input('Nome: ')\n",
    "idade = int(input('Idade: ')).replace(',','.')\n",
    "altura = float(input('Altura: ')).replace(',','.')\n",
    "\n",
    "if idade >= 12 and altura >= 1.20:\n",
    "    print(f'Nome: {nome}\\n Idade: {idade}\\n Altura: {altura}\\n Apto para brincar')\n",
    "else:\n",
    "    print(f'Nome: {nome}\\n Idade: {idade}\\n Altura: {altura}\\n Não está apto para brincar!!!')\n",
    "    "
   ]
  },
  {
   "cell_type": "markdown",
   "metadata": {},
   "source": [
    "## Desafio 02\n",
    "- Crie um programa que verifica se o aluno poderar ir a praia.\n",
    "    - Para ir a praia ele precisa:\n",
    "        - Verifica se acordei de bom humor\n",
    "        - Verifica se o pai ja chegou em casa para leva-lo"
   ]
  },
  {
   "cell_type": "code",
   "execution_count": 2,
   "metadata": {},
   "outputs": [
    {
     "name": "stdout",
     "output_type": "stream",
     "text": [
      "Pode ir a praia!!!\n"
     ]
    }
   ],
   "source": [
    "# TODO: Resposta desafio 02\n",
    "nome = input('Nome do aluno: ').upper()\n",
    "humor = input('Você esta de bom Humor?\\nDigite (s) para sim ou (n) para não').upper()\n",
    "pai = input('Seu pai está em casa para te levar?\\nDigite (s) para sim ou (n) para não').upper()\n",
    "\n",
    "\n",
    "if humor == 'S' and pai == 'S':\n",
    "    print('Pode ir a praia!!!')\n",
    "else:\n",
    "    print('Não pode ir a praia!!!')"
   ]
  },
  {
   "cell_type": "markdown",
   "metadata": {},
   "source": [
    "## Desafio 03\n",
    "- Crie um programa que calcule o indice de massa corporal de um usuário\n",
    "    - pegue os valores de altura e peso\n",
    "        - use a conversão de valores\n",
    "        - use replace\n",
    "        - imprima se ele esta acima do peso ou nao"
   ]
  },
  {
   "cell_type": "code",
   "execution_count": 9,
   "metadata": {},
   "outputs": [
    {
     "name": "stdout",
     "output_type": "stream",
     "text": [
      "Você está acima do peso!\n"
     ]
    }
   ],
   "source": [
    "# TODO: Resposta desafio 03\n",
    "nome = input('Nome: ')\n",
    "altura = input('Altura(m): ')\n",
    "peso = input('Peso(kg): ')\n",
    "\n",
    "altura = float(altura)\n",
    "peso = float(peso)\n",
    "\n",
    "imc = peso / (altura * altura)\n",
    "\n",
    "if imc <= 30:\n",
    "    print('Você está acima do peso!')\n",
    "else:\n",
    "    print('Você não esta acima do peso!')\n"
   ]
  },
  {
   "cell_type": "markdown",
   "metadata": {},
   "source": [
    "## Desafio 04\n",
    "- Crie uma calculadora de IMC\n",
    "    - Imprima as seguintes condições:?\n",
    "        - imc <17: está com anorexia.\n",
    "        - imc <18.5: está abaixo do peso\n",
    "        - imc <25: está no peso ideal.\n",
    "        - imc <30: está acima do peso.\n",
    "        - imc <35: está com grau de obesidade I.\n",
    "        - imc <40: está com grau de obesidade II.\n",
    "        - imc: está com grau de obesidade mórbida."
   ]
  },
  {
   "cell_type": "code",
   "execution_count": 19,
   "metadata": {},
   "outputs": [
    {
     "name": "stdout",
     "output_type": "stream",
     "text": [
      "Está com grau de obesidade I.\n"
     ]
    }
   ],
   "source": [
    "# TODO: Resposta desafio 04\n",
    "nome = input('Nome: ').replace(',','.')\n",
    "altura = input('Altura(m): ').replace(',','.')\n",
    "peso = input('Peso(kg): ')\n",
    "\n",
    "altura = float(altura)\n",
    "peso = float(peso)\n",
    "\n",
    "imc = (peso / (altura * altura))\n",
    "\n",
    "if imc > 40:\n",
    "    print('Está com obesidade morbida.')\n",
    "elif imc > 35:\n",
    "    print('Está com grau de obesidade II.')\n",
    "elif imc > 30:\n",
    "    print('Está com grau de obesidade I.')\n",
    "elif imc > 25:\n",
    "    print('Está no peso ideal.')\n",
    "elif imc > 18:\n",
    "    print('Está abaixo do peso.')\n",
    "else:\n",
    "    print('Está com anorexia.')\n"
   ]
  },
  {
   "cell_type": "markdown",
   "metadata": {},
   "source": [
    "## Desafio 05\n",
    "- Crie uma calculadora basica.\n",
    "    - Solicite 2 números do usuário e pergunte qual operação matemática ele deseja fazer.\n",
    "        -   +; -; /; *\n",
    "        - imprima o resultado correto para cada operação"
   ]
  },
  {
   "cell_type": "code",
   "execution_count": 25,
   "metadata": {},
   "outputs": [
    {
     "name": "stdout",
     "output_type": "stream",
     "text": [
      "56 * 6 = 336\n"
     ]
    }
   ],
   "source": [
    "# TODO: Resposta desafio 05  \n",
    "num1 = int(input('Digite um número: '))\n",
    "ope = input('Digite a operação: ')\n",
    "num2 = int(input('Digite um número: '))\n",
    "\n",
    "if ope == \"+\":\n",
    "    res = num1 + num2\n",
    "elif ope == \"-\":\n",
    "    res = num1 - num2\n",
    "elif ope == \"/\":\n",
    "    res = num1 / num2\n",
    "elif ope == \"*\":\n",
    "    res = num1 * num2\n",
    "else:\n",
    "    print(\"Operação inválida.\")\n",
    "print(f'{num1} {ope} {num2} = {res}')\n"
   ]
  }
 ],
 "metadata": {
  "kernelspec": {
   "display_name": "Python 3",
   "language": "python",
   "name": "python3"
  },
  "language_info": {
   "codemirror_mode": {
    "name": "ipython",
    "version": 3
   },
   "file_extension": ".py",
   "mimetype": "text/x-python",
   "name": "python",
   "nbconvert_exporter": "python",
   "pygments_lexer": "ipython3",
   "version": "3.12.4"
  }
 },
 "nbformat": 4,
 "nbformat_minor": 2
}
