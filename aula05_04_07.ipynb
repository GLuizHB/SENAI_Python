{
 "cells": [
  {
   "cell_type": "code",
   "execution_count": 3,
   "metadata": {},
   "outputs": [
    {
     "name": "stdout",
     "output_type": "stream",
     "text": [
      "if é verdadeiro\n",
      "verdadeiro\n",
      "fim do programa\n"
     ]
    }
   ],
   "source": [
    "programador = True\n",
    "\n",
    "if programador:\n",
    "    print('if é verdadeiro')\n",
    "\n",
    "else:\n",
    "    print('if é falso')\n",
    "print('fim do programa')"
   ]
  },
  {
   "cell_type": "code",
   "execution_count": 5,
   "metadata": {},
   "outputs": [
    {
     "name": "stdout",
     "output_type": "stream",
     "text": [
      "Pode brincar na montanha russa\n"
     ]
    }
   ],
   "source": [
    "idade = 25\n",
    "altura = 1.75\n",
    "# and\n",
    "# or\n",
    "\n",
    "if idade >= 18 and altura > 1.60:\n",
    "    print('Pode brincar na montanha russa')\n",
    "else:\n",
    "    print('Não pode brincar')"
   ]
  },
  {
   "cell_type": "markdown",
   "metadata": {},
   "source": [
    "## DESAFIO\n",
    "\n",
    "- Usando o conceito de operadores e if else, crie um programa que verifica se o número é par ou impar.\n"
   ]
  },
  {
   "cell_type": "code",
   "execution_count": 14,
   "metadata": {},
   "outputs": [
    {
     "name": "stdout",
     "output_type": "stream",
     "text": [
      "O número 4186 é par\n"
     ]
    }
   ],
   "source": [
    "nu = int(input('Digite um número: '))\n",
    "resto = nu % 2\n",
    "# verificar se o resto da divisão pro 2 é igual a 0\n",
    "if resto == 0:\n",
    "    print(f'O número {nu} é par')\n",
    "else:\n",
    "    print(f'O número {nu} é impar')\n"
   ]
  },
  {
   "cell_type": "markdown",
   "metadata": {},
   "source": [
    "## DESAFIO 2\n",
    "\n",
    "- Um elevador de carga possui capacidade para 200kg.\n",
    "    - Crie um programa que  receba do usuario o peso da carga, ou seu peso e verificar se a carga está \n",
    "    autorizada a usar o elevador ou não."
   ]
  },
  {
   "cell_type": "code",
   "execution_count": 23,
   "metadata": {},
   "outputs": [
    {
     "name": "stdout",
     "output_type": "stream",
     "text": [
      "Peso permitido exedido\n"
     ]
    }
   ],
   "source": [
    "usuario = input('Peso da carga: ')\n",
    "carga = input('Peso do usuario: ')\n",
    "usuario = int(usuario)\n",
    "carga = int(carga)\n",
    "\n",
    "total = usuario + carga \n",
    "capacidade = 200\n",
    "\n",
    "if total <= capacidade:\n",
    "    print('Carga autorizada')\n",
    "else:\n",
    "    print('Peso permitido exedido')\n"
   ]
  },
  {
   "cell_type": "code",
   "execution_count": 26,
   "metadata": {},
   "outputs": [
    {
     "name": "stdout",
     "output_type": "stream",
     "text": [
      "Aprovado\n"
     ]
    }
   ],
   "source": [
    "nome = 'Beltrano'\n",
    "nota = 7\n",
    "\n",
    "if nota >= 7:\n",
    "    print('Aprovado')\n",
    "elif nota >= 5:\n",
    "    print('Em recuperação')\n",
    "else:\n",
    "    print('REPROVADO')\n"
   ]
  },
  {
   "cell_type": "markdown",
   "metadata": {},
   "source": [
    "## Desafio 3\n",
    "- Crie um sistema para coletar os dados do aluno, (nome, idade, cpf), em seguida solicite as notas dos 4 bimestres da diciplina de Python que o aluno teve para verificar a MEDIA.\n",
    "    - Media para aprovação >= 7\n",
    "    - Media para recuperação >= 5\n",
    "    - Media para reprovação = <5\n",
    "- Para retirar o boletim de notas, o aluno precisa ser maior de idade(18) e caso não seja, somente os pais podem retirar o boletim.\n",
    "    - Imprima as informações do aluno\n",
    "    - Imprima as notas do aluno em cada bimestre\n",
    "    - Imprima a situação do aluno (aprovado, reprovado, recuperação)\n",
    "    - Imprima se o boletim sera retirado pelos pais ou pelo proprio aluno"
   ]
  },
  {
   "cell_type": "code",
   "execution_count": 50,
   "metadata": {},
   "outputs": [
    {
     "name": "stdout",
     "output_type": "stream",
     "text": [
      "--------------------------------------------------\n",
      "Nome: luiz\n",
      "idade: 18\n",
      "CPF: 45645134164\n",
      "--------------------------------------------------\n",
      "1° Bimestre 6.0\n",
      "2° Bimestre 8.0\n",
      "3° Bimestre 7.0\n",
      "4° Bimestre 8.0\n",
      "\n",
      "Media:      7.2\n",
      "******************** Aprovado ********************\n"
     ]
    }
   ],
   "source": [
    "nome = input('Nome do aluno: ').lower()\n",
    "idade = int(input('Idade: '))\n",
    "cpf = str(input('CPF: '))\n",
    "\n",
    "not1 = float(input('Nota do promeiro bimestre: '))\n",
    "not2 = float(input('Nota do segundo bimestre: '))\n",
    "not3 = float(input('Nota do terceiro bimestre: '))\n",
    "not4 = float(input('Nota do quarto bimestre: '))\n",
    "\n",
    "media = (not1 + not2 + not3 + not4) / 4\n",
    "\n",
    "print(50*'-')\n",
    "print(f'Nome: {nome}')\n",
    "print(f'idade: {idade}')\n",
    "print(f'CPF: {cpf}')\n",
    "\n",
    "if idade >= 18:\n",
    "    print(50*'-')\n",
    "    print(f'1° Bimestre {not1:.1f}')\n",
    "    print(f'2° Bimestre {not2:.1f}')\n",
    "    print(f'3° Bimestre {not3:.1f}')\n",
    "    print(f'4° Bimestre {not4:.1f}')\n",
    "    print(f'\\nMedia:      {media:.1f}')\n",
    "\n",
    "    if media >= 7:\n",
    "        print(20*'*','Aprovado',20*'*')\n",
    "    elif media >= 5:\n",
    "        print(18*'*','Em Recuperação',18*'*')\n",
    "    else:\n",
    "        print(19*'*','REPROVADO',19*'*')\n",
    "else:\n",
    "    print('emição de boletim apenas com um responsavel')\n"
   ]
  }
 ],
 "metadata": {
  "kernelspec": {
   "display_name": ".venv",
   "language": "python",
   "name": "python3"
  },
  "language_info": {
   "codemirror_mode": {
    "name": "ipython",
    "version": 3
   },
   "file_extension": ".py",
   "mimetype": "text/x-python",
   "name": "python",
   "nbconvert_exporter": "python",
   "pygments_lexer": "ipython3",
   "version": "3.12.4"
  }
 },
 "nbformat": 4,
 "nbformat_minor": 2
}
