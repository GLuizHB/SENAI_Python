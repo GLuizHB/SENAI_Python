{
 "cells": [
  {
   "cell_type": "markdown",
   "metadata": {},
   "source": [
    "# **Phyton Essencial**\n"
   ]
  },
  {
   "cell_type": "markdown",
   "metadata": {},
   "source": [
    "- Algoritmo\n",
    "- comentários \n",
    "- Variavel\n",
    "- Estrutura de seleção\n",
    "- Git\n",
    "- Github\n",
    "- Compartilhar Notebook no GitHub"
   ]
  },
  {
   "cell_type": "markdown",
   "metadata": {},
   "source": [
    "### **CAP.1 - Algoritmo para fritar um ovo**\n",
    "##### Introdrução\n",
    "###### Passo a Passo para realizar uma determinada tarefa\n",
    "o algorimo é algo para determinar uma certa tarefa, por exemplo, fritar um ovo. Quais são os passos para fritar um ovo:\n",
    "\n",
    "Passo 1: pegar o ovo na geladeira\n",
    "Passo 2: Pegar a frigideira\n",
    "Passo 3: Colocar a frigideira no fogão\n",
    "Passo 4: Ligar o fogo\n",
    "Passo 5: Pegar a manteiga\n",
    "Passo 6: Colocar a manteiga na frigideira\n",
    "Passo 7: Quebrar o ovo\n",
    "Passo 8: Colocar o sal\n",
    "Passo 9: Comer o ovo"
   ]
  },
  {
   "cell_type": "code",
   "execution_count": 1,
   "metadata": {},
   "outputs": [
    {
     "name": "stdout",
     "output_type": "stream",
     "text": [
      "Hello world!\n"
     ]
    }
   ],
   "source": [
    "print(\"Hello world!\")"
   ]
  }
 ],
 "metadata": {
  "kernelspec": {
   "display_name": ".venv",
   "language": "python",
   "name": "python3"
  },
  "language_info": {
   "codemirror_mode": {
    "name": "ipython",
    "version": 3
   },
   "file_extension": ".py",
   "mimetype": "text/x-python",
   "name": "python",
   "nbconvert_exporter": "python",
   "pygments_lexer": "ipython3",
   "version": "3.12.4"
  }
 },
 "nbformat": 4,
 "nbformat_minor": 2
}
