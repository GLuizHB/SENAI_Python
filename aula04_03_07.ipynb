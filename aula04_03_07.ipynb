{
 "cells": [
  {
   "cell_type": "code",
   "execution_count": null,
   "metadata": {},
   "outputs": [],
   "source": []
  },
  {
   "cell_type": "code",
   "execution_count": 1,
   "metadata": {},
   "outputs": [
    {
     "name": "stdout",
     "output_type": "stream",
     "text": [
      "Divisão inteira: 1\n",
      "Divisão normal: 1.1666666666666667\n",
      "resto: 8\n",
      "Exponenciaação 818512462541723497563184343949203567378226201734387944160035493673990350804294303744.00\n"
     ]
    }
   ],
   "source": [
    "n1 = input(\"Digite O primeiro númeo: \")\n",
    "n2 = input(\"Digite o segundo número: \")\n",
    "\n",
    "#convertendo as entradas para inteiro\n",
    "\n",
    "n1 = int(n1)\n",
    "n2 = int(n2)\n",
    "\n",
    "divisao_inteira = n1 // n2 \n",
    "divisao = n1 / n2 \n",
    "resto = n1 % n2\n",
    "exponencial = n1 ** n2\n",
    "\n",
    "print (f'Divisão inteira: {divisao_inteira}')\n",
    "print (f'Divisão normal: {divisao:.2f}')\n",
    "print (f'resto: {resto}')\n",
    "print (f'Exponenciaação {exponencial:.2f}')\n"
   ]
  },
  {
   "cell_type": "code",
   "execution_count": 2,
   "metadata": {},
   "outputs": [
    {
     "name": "stdout",
     "output_type": "stream",
     "text": [
      "Resultado de atribuição de subtração: 0\n"
     ]
    }
   ],
   "source": [
    "# Atribuição de subtração \n",
    "valor = 10 \n",
    "valor -= 10 \n",
    "print(f'Resultado de atribuição de subtração: {valor}')"
   ]
  },
  {
   "cell_type": "code",
   "execution_count": 4,
   "metadata": {},
   "outputs": [
    {
     "name": "stdout",
     "output_type": "stream",
     "text": [
      "Resultado de atribuição de soma 20\n"
     ]
    }
   ],
   "source": [
    "# Atribuição de soma\n",
    "valor = 10\n",
    "valor += 10\n",
    "print(f'Resultado de atribuição de soma {valor}')"
   ]
  },
  {
   "cell_type": "code",
   "execution_count": 5,
   "metadata": {},
   "outputs": [
    {
     "name": "stdout",
     "output_type": "stream",
     "text": [
      "Resultado de atribuição de multiplicação: 100\n"
     ]
    }
   ],
   "source": [
    "# Atribuição de multiplicação\n",
    "valor = 10\n",
    "valor *= 10\n",
    "print(f'Resultado de atribuição de multiplicação: {valor}')"
   ]
  },
  {
   "cell_type": "code",
   "execution_count": 6,
   "metadata": {},
   "outputs": [
    {
     "name": "stdout",
     "output_type": "stream",
     "text": [
      "Resultado de atribuição de divisão: 1.0\n"
     ]
    }
   ],
   "source": [
    "# Atribuição de divisão\n",
    "valor = 10\n",
    "valor /= 10 \n",
    "print(f'Resultado de atribuição de divisão: {valor}')"
   ]
  },
  {
   "cell_type": "code",
   "execution_count": 7,
   "metadata": {},
   "outputs": [
    {
     "name": "stdout",
     "output_type": "stream",
     "text": [
      "Resultado de atribuição de divisão inteira: 1\n"
     ]
    }
   ],
   "source": [
    "# Atribuição de divisão inteira\n",
    "valor = 10\n",
    "valor //= 10 \n",
    "print(f'Resultado de atribuição de divisão inteira: {valor}')"
   ]
  },
  {
   "cell_type": "code",
   "execution_count": 8,
   "metadata": {},
   "outputs": [
    {
     "name": "stdout",
     "output_type": "stream",
     "text": [
      "Resultado da atribuição de modulo 0\n"
     ]
    }
   ],
   "source": [
    "# Atribuição de modulo\n",
    "valor = 10\n",
    "valor %= 10 \n",
    "print(f'Resultado da atribuição de modulo: {valor}')"
   ]
  },
  {
   "cell_type": "markdown",
   "metadata": {},
   "source": [
    "# Atividade\n",
    "\n",
    "- Crie um programa para o Boletim de notas do aluno. Guarde o nome do aluno, as notas e calcule a media final do aluno.\n",
    "- Disciplinas:\n",
    "    - Matematica\n",
    "    - Português\n",
    "    - Geográfia\n",
    "    - História\n",
    "    - Física\n",
    "\n",
    "- Ao obter as notas e a media das notas, imprima o boletim do aluno informando as notas das materias e com quanto ele ficou de media."
   ]
  },
  {
   "cell_type": "code",
   "execution_count": 23,
   "metadata": {},
   "outputs": [
    {
     "name": "stdout",
     "output_type": "stream",
     "text": [
      "------------------------------ BOLETIM ESCOLAR ------------------------------\n",
      "Aluno: Luiz\n",
      "-----------------------------------------------------------------------------\n",
      "Matéria____________nota  1___nota 2 ___ media\n",
      "Matematica_________8.0 ______9.0 ______ 8.5\n",
      "Português__________7.0 ______6.0 ______ 6.5\n",
      "Geográfia__________5.0 ______4.0 ______ 4.5\n",
      "História___________9.0 ______5.0 ______ 7.0\n",
      "Física_____________9.0 ______4.0 ______ 6.5\n",
      "A media geral é____ 6.6\n",
      "-----------------------------------------------------------------------------\n"
     ]
    }
   ],
   "source": [
    "nome = str(input('Nome do aluno: '))\n",
    "n1mat = float(input('Primeira nota Matemática: '))\n",
    "n2mat = float(input('Segunda nota Matemática: '))\n",
    "medmat = (n1mat + n2mat) / 2 \n",
    "\n",
    "n1por = float(input('Primeira nota Português: '))\n",
    "n2por = float(input('Segunda nota Português: '))\n",
    "medpor = (n1por + n2por) / 2\n",
    "\n",
    "n1geo = float(input('Primeira nota Geográfia: '))\n",
    "n2geo = float(input('Segunda nota Goegráfia: '))\n",
    "medgeo = (n1geo + n2geo) / 2\n",
    "\n",
    "n1his = float(input('Primeira nota História: '))\n",
    "n2his = float(input('Segunda nota História: '))\n",
    "medhis = (n1his + n2his) / 2\n",
    "\n",
    "n1fis = float(input('Primeira nota Física: '))\n",
    "n2fis = float(input('Segunda nota Física: '))\n",
    "medfis = (n1fis + n2fis) / 2\n",
    "\n",
    "medgeral = (medmat + medpor + medgeo + medhis + medfis) / 5\n",
    "\n",
    "print(30*\"-\", \"BOLETIM ESCOLAR\", 30*\"-\")\n",
    "\n",
    "print(f'Aluno: {nome}')\n",
    "print(77*\"-\")\n",
    "print('Matéria____________nota1____nota2 ____ media')\n",
    "print(f'Matematica_________{n1mat} ______{n2mat} ______ {medmat:.1f}')\n",
    "print(f'Português__________{n1por} ______{n2por} ______ {medpor:.1f}')\n",
    "print(f'Geográfia__________{n1geo} ______{n2geo} ______ {medgeo:.1f}')\n",
    "print(f'História___________{n1his} ______{n2his} ______ {medhis:.1f}')\n",
    "print(f'Física_____________{n1fis} ______{n2fis} ______ {medfis:.1f}')\n",
    "\n",
    "print(f'A media geral é____{medgeral:.1f}')\n",
    "print(77*\"-\")"
   ]
  }
 ],
 "metadata": {
  "kernelspec": {
   "display_name": ".venv",
   "language": "python",
   "name": "python3"
  },
  "language_info": {
   "codemirror_mode": {
    "name": "ipython",
    "version": 3
   },
   "file_extension": ".py",
   "mimetype": "text/x-python",
   "name": "python",
   "nbconvert_exporter": "python",
   "pygments_lexer": "ipython3",
   "version": "3.12.4"
  }
 },
 "nbformat": 4,
 "nbformat_minor": 2
}
