{
 "cells": [
  {
   "cell_type": "code",
   "execution_count": null,
   "metadata": {},
   "outputs": [],
   "source": []
  },
  {
   "cell_type": "markdown",
   "metadata": {},
   "source": [
    "# Aula 08 - Laço de repetição "
   ]
  },
  {
   "cell_type": "markdown",
   "metadata": {},
   "source": [
    "A essa altura do campeonato, você ja deve ter visto que os programas so rodam uma única vez. Caso o usuário deseje rodar o programa de novo, ele deverá executar mais uma vez o programa apenas para testar diferentes resultados. É ai onde entram os loops, ou laços de repetição.\n",
    "\n",
    "Eles são blocos de programação que executam um único algoritmo varias vezes seguidas antes de finalizar. O número de vezes em que ele é executado depende de vários fatores, como vamos aprender nessa aula."
   ]
  },
  {
   "cell_type": "markdown",
   "metadata": {},
   "source": [
    "### While"
   ]
  },
  {
   "cell_type": "code",
   "execution_count": 1,
   "metadata": {},
   "outputs": [
    {
     "name": "stdout",
     "output_type": "stream",
     "text": [
      "2\n",
      "continue...\n",
      "4\n",
      "continue...\n",
      "6\n",
      "continue...\n"
     ]
    }
   ],
   "source": [
    "cont = 0\n",
    "\n",
    "while cont < 15:\n",
    "    cont += 1\n",
    "    if cont % 2 == 0:\n",
    "        print(cont)\n",
    "    elif cont >= 7:\n",
    "        break\n",
    "    else:\n",
    "        continue\n",
    "\n",
    "    print('continue...')\n"
   ]
  },
  {
   "cell_type": "code",
   "execution_count": 3,
   "metadata": {},
   "outputs": [
    {
     "name": "stdout",
     "output_type": "stream",
     "text": [
      "Contagem regressiva: 5...\n",
      "Contagem regressiva: 4...\n",
      "Contagem regressiva: 3...\n",
      "Contagem regressiva: 2...\n",
      "Contagem regressiva: 1...\n",
      "Contagem regressiva: 0...\n",
      "BOOOOOOOOOOOOMMMMMMMMM!!!\n"
     ]
    }
   ],
   "source": [
    "import os\n",
    "import time\n",
    "\n",
    "cont = int(input('Digite um número inteiro: '))\n",
    "\n",
    "while cont >= 0:\n",
    "    os.system('cls') #Limpar o terminal\n",
    "    print(f'Contagem regressiva: {cont}...')\n",
    "    time.sleep(1) # Atrasa o proximo comando \n",
    "    cont -= 1\n",
    "\n",
    "os.system('cls')\n",
    "print('BOOOOOOOOOOOOMMMMMMMMM!!!')\n"
   ]
  },
  {
   "cell_type": "code",
   "execution_count": 6,
   "metadata": {},
   "outputs": [
    {
     "name": "stdout",
     "output_type": "stream",
     "text": [
      "luiz é maior de idade.\n",
      "joao é menor de idade.\n",
      "caio é maior de idade.\n"
     ]
    }
   ],
   "source": [
    "# While True\n",
    "while True:\n",
    "    # entrada do nome \n",
    "    nome = input('Informe o seu nome ou deixe em branco para sair: ')\n",
    "\n",
    "    # verifica se o valor foi infirmado ou não\n",
    "    if nome !='':\n",
    "        # entrada da idade\n",
    "        idade = int(input('informe sua idade: '))\n",
    "\n",
    "        # verificarção de idade\n",
    "        if idade >= 18:\n",
    "            print(f'{nome} é maior de idade.')\n",
    "        else:\n",
    "            print(f'{nome} é menor de idade.')\n",
    "\n",
    "        continue # retorno ao inicio do loop\n",
    "    else:\n",
    "        break # encerra o loop\n",
    "    \n"
   ]
  },
  {
   "cell_type": "code",
   "execution_count": null,
   "metadata": {},
   "outputs": [],
   "source": [
    "import os\n",
    "\n",
    "while True:\n",
    "    \n",
    "    opcao = input('Desja calcular o IMC? (s) para sim (n) para não: ').lower()\n",
    "    os.system('cls')\n",
    "    if opcao == 's':\n",
    "        altura = input('Altura(m): ').replace(',','.')\n",
    "        peso = input('Peso(kg): ').replace(',','.')\n",
    "\n",
    "        altura = float(altura)\n",
    "        peso = float(peso)\n",
    "\n",
    "        imc = (peso / (altura * altura))\n",
    "\n",
    "        if imc > 40:\n",
    "            print('Está com obesidade morbida.')\n",
    "        elif imc > 35:\n",
    "            print('Está com grau de obesidade II.')\n",
    "        elif imc > 30:\n",
    "            print('Está com grau de obesidade I.')\n",
    "        elif imc > 25:\n",
    "            print('Está no peso ideal.')\n",
    "        elif imc > 18:\n",
    "            print('Está abaixo do peso.')\n",
    "        else:\n",
    "            print('Está com anorexia.')\n",
    "        continue\n",
    "    elif opcao == 'n':\n",
    "        print('Fim do programa!!!')\n",
    "        break\n",
    "    else:\n",
    "        print('Opção invalida!!!')"
   ]
  },
  {
   "cell_type": "markdown",
   "metadata": {},
   "source": [
    "##### 2. Crie um programa que liste 5 salas de cinema, e mostre o filme de cada uma das salas e suas classificações indicativas. O usuário deverá imformar sua idade e a sala com o flime desejado. Caso o usuário tenha a idade mínima, o programa deverá informar que elenão tem idade para ver o filme, e deverá a lista de filmes para que o usuário escolha outro filme."
   ]
  },
  {
   "cell_type": "code",
   "execution_count": 53,
   "metadata": {},
   "outputs": [
    {
     "name": "stdout",
     "output_type": "stream",
     "text": [
      "Sala 1 - Deadpool e Wolverine - 18\n",
      "Sala 2 - Meu malvado favorito 4 - L\n",
      "Sala 3 - Divertida Mente 2 - L\n",
      "Sala 4 - Maxxxine - 18\n",
      "Sala 5 - Lugar Silencioso - 14\n",
      "\n",
      "Entrada permitida!\n",
      "Sala 1 - Deadpool e Wolverine - 18\n",
      "Sala 2 - Meu malvado favorito 4 - L\n",
      "Sala 3 - Divertida Mente 2 - L\n",
      "Sala 4 - Maxxxine - 18\n",
      "Sala 5 - Lugar Silencioso - 14\n",
      "\n",
      "Não tem idade para assistir esse filme.\n"
     ]
    }
   ],
   "source": [
    "import os\n",
    "\n",
    "os.system('cls')\n",
    "while True:\n",
    "    idade = input('Sua idade: ')\n",
    "    idade = int(idade)\n",
    "\n",
    "    print('Sala 1 - Deadpool e Wolverine - 18')\n",
    "    print('Sala 2 - Meu malvado favorito 4 - L')\n",
    "    print('Sala 3 - Divertida Mente 2 - L')\n",
    "    print('Sala 4 - Maxxxine - 18')\n",
    "    print('Sala 5 - Lugar Silencioso - 14')\n",
    "\n",
    "    sala = input('Informe a Sala e Filme desejado: ')\n",
    "\n",
    "    s01 = '1'\n",
    "    s02 = '2'\n",
    "    s03 = '3'\n",
    "    s04 = '4'\n",
    "    s05 = '5'\n",
    "\n",
    "\n",
    "\n",
    "    if idade >= 18:\n",
    "        if sala == s01 or s04:\n",
    "            print('\\nEntrada permitida!')\n",
    "        else:\n",
    "            print('\\nNão tem idade para assistir esse flime.')\n",
    "            break\n",
    "    elif idade <= 14:\n",
    "        if sala == s05:\n",
    "            print('\\nEntrada permitida!')\n",
    "        else:\n",
    "            print('\\nNão tem idade para assistir esse filme.')\n",
    "            break\n",
    "    else:\n",
    "        print('\\nClassificação livre.')\n",
    "        continue"
   ]
  }
 ],
 "metadata": {
  "kernelspec": {
   "display_name": ".venv",
   "language": "python",
   "name": "python3"
  },
  "language_info": {
   "codemirror_mode": {
    "name": "ipython",
    "version": 3
   },
   "file_extension": ".py",
   "mimetype": "text/x-python",
   "name": "python",
   "nbconvert_exporter": "python",
   "pygments_lexer": "ipython3",
   "version": "3.12.4"
  }
 },
 "nbformat": 4,
 "nbformat_minor": 2
}
